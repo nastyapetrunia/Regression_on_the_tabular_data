{
 "cells": [
  {
   "cell_type": "code",
   "execution_count": 1,
   "metadata": {},
   "outputs": [],
   "source": [
    "import pandas as pd\n",
    "import numpy as np\n",
    "from sklearn.model_selection import train_test_split\n",
    "from sklearn.preprocessing import StandardScaler\n",
    "import xgboost as xg\n",
    "from sklearn.metrics import mean_squared_error as MSE\n",
    "import matplotlib.pyplot as plt\n",
    "from xgboost import plot_importance"
   ]
  },
  {
   "cell_type": "code",
   "execution_count": 2,
   "metadata": {},
   "outputs": [],
   "source": [
    "train_data = pd.read_csv(\"/content/internship_train.csv\")\n",
    "test_data = pd.read_csv(\"/content/internship_hidden_test.csv\")"
   ]
  },
  {
   "cell_type": "markdown",
   "metadata": {},
   "source": [
    "Data Preprocessing"
   ]
  },
  {
   "cell_type": "code",
   "execution_count": 5,
   "metadata": {},
   "outputs": [],
   "source": [
    "target = train_data.target\n",
    "df_train = train_data.drop(['target'], axis=1)"
   ]
  },
  {
   "cell_type": "code",
   "execution_count": 6,
   "metadata": {},
   "outputs": [],
   "source": [
    "std_scaler = StandardScaler()\n",
    " \n",
    "df_scaled = std_scaler.fit_transform(df_train)\n",
    "df_scaled = pd.DataFrame(df_scaled, columns=df_train.columns)"
   ]
  },
  {
   "cell_type": "code",
   "execution_count": 7,
   "metadata": {},
   "outputs": [
    {
     "data": {
      "text/html": [
       "<div>\n",
       "<style scoped>\n",
       "    .dataframe tbody tr th:only-of-type {\n",
       "        vertical-align: middle;\n",
       "    }\n",
       "\n",
       "    .dataframe tbody tr th {\n",
       "        vertical-align: top;\n",
       "    }\n",
       "\n",
       "    .dataframe thead th {\n",
       "        text-align: right;\n",
       "    }\n",
       "</style>\n",
       "<table border=\"1\" class=\"dataframe\">\n",
       "  <thead>\n",
       "    <tr style=\"text-align: right;\">\n",
       "      <th></th>\n",
       "      <th>0</th>\n",
       "      <th>1</th>\n",
       "      <th>2</th>\n",
       "      <th>3</th>\n",
       "      <th>4</th>\n",
       "      <th>5</th>\n",
       "      <th>6</th>\n",
       "      <th>7</th>\n",
       "      <th>8</th>\n",
       "      <th>9</th>\n",
       "      <th>...</th>\n",
       "      <th>43</th>\n",
       "      <th>44</th>\n",
       "      <th>45</th>\n",
       "      <th>46</th>\n",
       "      <th>47</th>\n",
       "      <th>48</th>\n",
       "      <th>49</th>\n",
       "      <th>50</th>\n",
       "      <th>51</th>\n",
       "      <th>52</th>\n",
       "    </tr>\n",
       "  </thead>\n",
       "  <tbody>\n",
       "    <tr>\n",
       "      <th>0</th>\n",
       "      <td>-0.093005</td>\n",
       "      <td>1.650892</td>\n",
       "      <td>-1.614340</td>\n",
       "      <td>-0.199167</td>\n",
       "      <td>0.920961</td>\n",
       "      <td>-1.057700</td>\n",
       "      <td>-0.633795</td>\n",
       "      <td>-1.354700</td>\n",
       "      <td>-0.998379</td>\n",
       "      <td>-0.814885</td>\n",
       "      <td>...</td>\n",
       "      <td>0.603259</td>\n",
       "      <td>1.354549</td>\n",
       "      <td>-1.539604</td>\n",
       "      <td>-1.280193</td>\n",
       "      <td>-0.001535</td>\n",
       "      <td>0.936529</td>\n",
       "      <td>0.311898</td>\n",
       "      <td>0.355316</td>\n",
       "      <td>0.094426</td>\n",
       "      <td>0.807135</td>\n",
       "    </tr>\n",
       "    <tr>\n",
       "      <th>1</th>\n",
       "      <td>0.946240</td>\n",
       "      <td>-0.307151</td>\n",
       "      <td>0.751961</td>\n",
       "      <td>-0.122928</td>\n",
       "      <td>-1.725961</td>\n",
       "      <td>-0.357907</td>\n",
       "      <td>1.111325</td>\n",
       "      <td>0.918543</td>\n",
       "      <td>1.001624</td>\n",
       "      <td>-0.738819</td>\n",
       "      <td>...</td>\n",
       "      <td>0.709447</td>\n",
       "      <td>1.156878</td>\n",
       "      <td>-0.082212</td>\n",
       "      <td>-1.067235</td>\n",
       "      <td>1.139537</td>\n",
       "      <td>0.639375</td>\n",
       "      <td>0.605313</td>\n",
       "      <td>0.407199</td>\n",
       "      <td>-0.997298</td>\n",
       "      <td>1.478992</td>\n",
       "    </tr>\n",
       "    <tr>\n",
       "      <th>2</th>\n",
       "      <td>1.244156</td>\n",
       "      <td>-1.397266</td>\n",
       "      <td>1.612434</td>\n",
       "      <td>-0.961551</td>\n",
       "      <td>-0.961758</td>\n",
       "      <td>-0.718197</td>\n",
       "      <td>1.223865</td>\n",
       "      <td>0.528661</td>\n",
       "      <td>1.001624</td>\n",
       "      <td>1.245803</td>\n",
       "      <td>...</td>\n",
       "      <td>0.637462</td>\n",
       "      <td>1.513746</td>\n",
       "      <td>-1.649652</td>\n",
       "      <td>0.150570</td>\n",
       "      <td>1.180611</td>\n",
       "      <td>0.334000</td>\n",
       "      <td>-1.205037</td>\n",
       "      <td>0.865978</td>\n",
       "      <td>1.227252</td>\n",
       "      <td>1.054137</td>\n",
       "    </tr>\n",
       "    <tr>\n",
       "      <th>3</th>\n",
       "      <td>1.140232</td>\n",
       "      <td>0.692701</td>\n",
       "      <td>1.612434</td>\n",
       "      <td>0.833518</td>\n",
       "      <td>-0.287870</td>\n",
       "      <td>-0.635053</td>\n",
       "      <td>1.181851</td>\n",
       "      <td>-0.256000</td>\n",
       "      <td>1.001624</td>\n",
       "      <td>0.623448</td>\n",
       "      <td>...</td>\n",
       "      <td>-0.144989</td>\n",
       "      <td>-1.082023</td>\n",
       "      <td>-0.256219</td>\n",
       "      <td>0.702124</td>\n",
       "      <td>0.918686</td>\n",
       "      <td>-0.236042</td>\n",
       "      <td>-1.146314</td>\n",
       "      <td>-1.675994</td>\n",
       "      <td>0.423260</td>\n",
       "      <td>-0.491620</td>\n",
       "    </tr>\n",
       "    <tr>\n",
       "      <th>4</th>\n",
       "      <td>0.475115</td>\n",
       "      <td>0.755191</td>\n",
       "      <td>-1.586582</td>\n",
       "      <td>-0.219959</td>\n",
       "      <td>0.469386</td>\n",
       "      <td>0.355743</td>\n",
       "      <td>1.155909</td>\n",
       "      <td>0.930981</td>\n",
       "      <td>1.001624</td>\n",
       "      <td>-0.261680</td>\n",
       "      <td>...</td>\n",
       "      <td>0.842910</td>\n",
       "      <td>-1.290554</td>\n",
       "      <td>-1.296760</td>\n",
       "      <td>-1.209721</td>\n",
       "      <td>-1.689221</td>\n",
       "      <td>-0.781319</td>\n",
       "      <td>0.680478</td>\n",
       "      <td>-0.160179</td>\n",
       "      <td>0.254298</td>\n",
       "      <td>-0.692559</td>\n",
       "    </tr>\n",
       "    <tr>\n",
       "      <th>...</th>\n",
       "      <td>...</td>\n",
       "      <td>...</td>\n",
       "      <td>...</td>\n",
       "      <td>...</td>\n",
       "      <td>...</td>\n",
       "      <td>...</td>\n",
       "      <td>...</td>\n",
       "      <td>...</td>\n",
       "      <td>...</td>\n",
       "      <td>...</td>\n",
       "      <td>...</td>\n",
       "      <td>...</td>\n",
       "      <td>...</td>\n",
       "      <td>...</td>\n",
       "      <td>...</td>\n",
       "      <td>...</td>\n",
       "      <td>...</td>\n",
       "      <td>...</td>\n",
       "      <td>...</td>\n",
       "      <td>...</td>\n",
       "      <td>...</td>\n",
       "    </tr>\n",
       "    <tr>\n",
       "      <th>89995</th>\n",
       "      <td>0.544398</td>\n",
       "      <td>-1.431983</td>\n",
       "      <td>0.495207</td>\n",
       "      <td>0.791933</td>\n",
       "      <td>-1.684277</td>\n",
       "      <td>-1.223988</td>\n",
       "      <td>0.697682</td>\n",
       "      <td>0.226305</td>\n",
       "      <td>1.001624</td>\n",
       "      <td>0.450571</td>\n",
       "      <td>...</td>\n",
       "      <td>-0.522134</td>\n",
       "      <td>-1.664700</td>\n",
       "      <td>-0.309631</td>\n",
       "      <td>0.048119</td>\n",
       "      <td>0.616132</td>\n",
       "      <td>-1.333998</td>\n",
       "      <td>-0.838507</td>\n",
       "      <td>1.130909</td>\n",
       "      <td>1.551124</td>\n",
       "      <td>-1.186716</td>\n",
       "    </tr>\n",
       "    <tr>\n",
       "      <th>89996</th>\n",
       "      <td>-0.224643</td>\n",
       "      <td>1.539797</td>\n",
       "      <td>-0.517930</td>\n",
       "      <td>0.535495</td>\n",
       "      <td>0.038654</td>\n",
       "      <td>0.965464</td>\n",
       "      <td>-0.510668</td>\n",
       "      <td>1.257937</td>\n",
       "      <td>-0.998379</td>\n",
       "      <td>-0.731904</td>\n",
       "      <td>...</td>\n",
       "      <td>1.668388</td>\n",
       "      <td>-0.537619</td>\n",
       "      <td>-0.766931</td>\n",
       "      <td>1.610064</td>\n",
       "      <td>-1.406540</td>\n",
       "      <td>-0.254933</td>\n",
       "      <td>0.609067</td>\n",
       "      <td>1.185458</td>\n",
       "      <td>-0.210603</td>\n",
       "      <td>-0.150028</td>\n",
       "    </tr>\n",
       "    <tr>\n",
       "      <th>89997</th>\n",
       "      <td>-0.418635</td>\n",
       "      <td>1.081532</td>\n",
       "      <td>-0.247298</td>\n",
       "      <td>-1.335813</td>\n",
       "      <td>1.699059</td>\n",
       "      <td>-0.413336</td>\n",
       "      <td>0.877479</td>\n",
       "      <td>0.468187</td>\n",
       "      <td>1.001624</td>\n",
       "      <td>-0.199444</td>\n",
       "      <td>...</td>\n",
       "      <td>-0.050014</td>\n",
       "      <td>1.715240</td>\n",
       "      <td>-1.073103</td>\n",
       "      <td>0.271201</td>\n",
       "      <td>-0.680629</td>\n",
       "      <td>-1.369830</td>\n",
       "      <td>0.808836</td>\n",
       "      <td>0.065418</td>\n",
       "      <td>0.216300</td>\n",
       "      <td>-1.032045</td>\n",
       "    </tr>\n",
       "    <tr>\n",
       "      <th>89998</th>\n",
       "      <td>1.167945</td>\n",
       "      <td>1.581458</td>\n",
       "      <td>-0.594263</td>\n",
       "      <td>-1.488290</td>\n",
       "      <td>0.976539</td>\n",
       "      <td>-1.196273</td>\n",
       "      <td>-0.510668</td>\n",
       "      <td>0.653874</td>\n",
       "      <td>-0.998379</td>\n",
       "      <td>0.270780</td>\n",
       "      <td>...</td>\n",
       "      <td>1.485218</td>\n",
       "      <td>1.216491</td>\n",
       "      <td>-1.156621</td>\n",
       "      <td>0.817628</td>\n",
       "      <td>-0.203747</td>\n",
       "      <td>1.184538</td>\n",
       "      <td>0.722242</td>\n",
       "      <td>-1.586011</td>\n",
       "      <td>0.291156</td>\n",
       "      <td>-1.446239</td>\n",
       "    </tr>\n",
       "    <tr>\n",
       "      <th>89999</th>\n",
       "      <td>-0.037579</td>\n",
       "      <td>0.588550</td>\n",
       "      <td>0.613175</td>\n",
       "      <td>-0.677390</td>\n",
       "      <td>0.948750</td>\n",
       "      <td>-0.330193</td>\n",
       "      <td>1.092981</td>\n",
       "      <td>0.397185</td>\n",
       "      <td>1.001624</td>\n",
       "      <td>-1.547881</td>\n",
       "      <td>...</td>\n",
       "      <td>-1.460519</td>\n",
       "      <td>0.829931</td>\n",
       "      <td>-0.282428</td>\n",
       "      <td>1.505861</td>\n",
       "      <td>-1.290685</td>\n",
       "      <td>1.355221</td>\n",
       "      <td>-1.228283</td>\n",
       "      <td>0.865853</td>\n",
       "      <td>-0.944045</td>\n",
       "      <td>0.478661</td>\n",
       "    </tr>\n",
       "  </tbody>\n",
       "</table>\n",
       "<p>90000 rows × 53 columns</p>\n",
       "</div>"
      ],
      "text/plain": [
       "              0         1         2         3         4         5         6  \\\n",
       "0     -0.093005  1.650892 -1.614340 -0.199167  0.920961 -1.057700 -0.633795   \n",
       "1      0.946240 -0.307151  0.751961 -0.122928 -1.725961 -0.357907  1.111325   \n",
       "2      1.244156 -1.397266  1.612434 -0.961551 -0.961758 -0.718197  1.223865   \n",
       "3      1.140232  0.692701  1.612434  0.833518 -0.287870 -0.635053  1.181851   \n",
       "4      0.475115  0.755191 -1.586582 -0.219959  0.469386  0.355743  1.155909   \n",
       "...         ...       ...       ...       ...       ...       ...       ...   \n",
       "89995  0.544398 -1.431983  0.495207  0.791933 -1.684277 -1.223988  0.697682   \n",
       "89996 -0.224643  1.539797 -0.517930  0.535495  0.038654  0.965464 -0.510668   \n",
       "89997 -0.418635  1.081532 -0.247298 -1.335813  1.699059 -0.413336  0.877479   \n",
       "89998  1.167945  1.581458 -0.594263 -1.488290  0.976539 -1.196273 -0.510668   \n",
       "89999 -0.037579  0.588550  0.613175 -0.677390  0.948750 -0.330193  1.092981   \n",
       "\n",
       "              7         8         9  ...        43        44        45  \\\n",
       "0     -1.354700 -0.998379 -0.814885  ...  0.603259  1.354549 -1.539604   \n",
       "1      0.918543  1.001624 -0.738819  ...  0.709447  1.156878 -0.082212   \n",
       "2      0.528661  1.001624  1.245803  ...  0.637462  1.513746 -1.649652   \n",
       "3     -0.256000  1.001624  0.623448  ... -0.144989 -1.082023 -0.256219   \n",
       "4      0.930981  1.001624 -0.261680  ...  0.842910 -1.290554 -1.296760   \n",
       "...         ...       ...       ...  ...       ...       ...       ...   \n",
       "89995  0.226305  1.001624  0.450571  ... -0.522134 -1.664700 -0.309631   \n",
       "89996  1.257937 -0.998379 -0.731904  ...  1.668388 -0.537619 -0.766931   \n",
       "89997  0.468187  1.001624 -0.199444  ... -0.050014  1.715240 -1.073103   \n",
       "89998  0.653874 -0.998379  0.270780  ...  1.485218  1.216491 -1.156621   \n",
       "89999  0.397185  1.001624 -1.547881  ... -1.460519  0.829931 -0.282428   \n",
       "\n",
       "             46        47        48        49        50        51        52  \n",
       "0     -1.280193 -0.001535  0.936529  0.311898  0.355316  0.094426  0.807135  \n",
       "1     -1.067235  1.139537  0.639375  0.605313  0.407199 -0.997298  1.478992  \n",
       "2      0.150570  1.180611  0.334000 -1.205037  0.865978  1.227252  1.054137  \n",
       "3      0.702124  0.918686 -0.236042 -1.146314 -1.675994  0.423260 -0.491620  \n",
       "4     -1.209721 -1.689221 -0.781319  0.680478 -0.160179  0.254298 -0.692559  \n",
       "...         ...       ...       ...       ...       ...       ...       ...  \n",
       "89995  0.048119  0.616132 -1.333998 -0.838507  1.130909  1.551124 -1.186716  \n",
       "89996  1.610064 -1.406540 -0.254933  0.609067  1.185458 -0.210603 -0.150028  \n",
       "89997  0.271201 -0.680629 -1.369830  0.808836  0.065418  0.216300 -1.032045  \n",
       "89998  0.817628 -0.203747  1.184538  0.722242 -1.586011  0.291156 -1.446239  \n",
       "89999  1.505861 -1.290685  1.355221 -1.228283  0.865853 -0.944045  0.478661  \n",
       "\n",
       "[90000 rows x 53 columns]"
      ]
     },
     "execution_count": 7,
     "metadata": {},
     "output_type": "execute_result"
    }
   ],
   "source": [
    "df_scaled"
   ]
  },
  {
   "cell_type": "code",
   "execution_count": 8,
   "metadata": {},
   "outputs": [
    {
     "data": {
      "text/plain": [
       "0        20.107472\n",
       "1        61.763713\n",
       "2        74.651162\n",
       "3        69.424645\n",
       "4        66.767304\n",
       "           ...    \n",
       "89995    24.563878\n",
       "89996    13.861690\n",
       "89997    38.633704\n",
       "89998    13.687309\n",
       "89999    59.613207\n",
       "Name: target, Length: 90000, dtype: float64"
      ]
     },
     "execution_count": 8,
     "metadata": {},
     "output_type": "execute_result"
    }
   ],
   "source": [
    "target"
   ]
  },
  {
   "cell_type": "markdown",
   "metadata": {},
   "source": [
    "Train Test Split"
   ]
  },
  {
   "cell_type": "code",
   "execution_count": 9,
   "metadata": {},
   "outputs": [],
   "source": [
    "X_train, X_test, y_train, y_test = train_test_split(df_train, target, test_size=0.2, random_state=42)"
   ]
  },
  {
   "cell_type": "code",
   "execution_count": 10,
   "metadata": {},
   "outputs": [],
   "source": [
    "X_train = np.array(X_train)\n",
    "X_test = np.array(X_test)\n",
    "y_train = np.array(y_train)\n",
    "y_test = np.array(y_test)"
   ]
  },
  {
   "cell_type": "markdown",
   "metadata": {},
   "source": [
    "Feature Importance and Feature Elimination"
   ]
  },
  {
   "cell_type": "code",
   "execution_count": 11,
   "metadata": {},
   "outputs": [
    {
     "name": "stdout",
     "output_type": "stream",
     "text": [
      "[14:58:55] WARNING: C:/buildkite-agent/builds/buildkite-windows-cpu-autoscaling-group-i-0fc7796c793e6356f-1/xgboost/xgboost-ci-windows/src/objective/regression_obj.cu:213: reg:linear is now deprecated in favor of reg:squarederror.\n"
     ]
    },
    {
     "data": {
      "text/plain": [
       "XGBRegressor(base_score=None, booster=None, callbacks=None,\n",
       "             colsample_bylevel=None, colsample_bynode=None,\n",
       "             colsample_bytree=None, early_stopping_rounds=None,\n",
       "             enable_categorical=False, eval_metric=None, feature_types=None,\n",
       "             gamma=None, gpu_id=None, grow_policy=None, importance_type=None,\n",
       "             interaction_constraints=None, learning_rate=None, max_bin=None,\n",
       "             max_cat_threshold=None, max_cat_to_onehot=None,\n",
       "             max_delta_step=None, max_depth=None, max_leaves=None,\n",
       "             min_child_weight=None, missing=nan, monotone_constraints=None,\n",
       "             n_estimators=10, n_jobs=None, num_parallel_tree=None,\n",
       "             objective='reg:linear', predictor=None, ...)"
      ]
     },
     "execution_count": 11,
     "metadata": {},
     "output_type": "execute_result"
    }
   ],
   "source": [
    "xgb_r = xg.XGBRegressor(objective ='reg:linear',\n",
    "                  n_estimators = 10, seed = 42)\n",
    "  \n",
    "# Fitting the model\n",
    "xgb_r.fit(X_train, y_train)"
   ]
  },
  {
   "cell_type": "code",
   "execution_count": 12,
   "metadata": {},
   "outputs": [
    {
     "name": "stdout",
     "output_type": "stream",
     "text": [
      "RMSE :  1.698301\n"
     ]
    }
   ],
   "source": [
    "pred = xgb_r.predict(X_test)\n",
    "  \n",
    "# RMSE Computation\n",
    "rmse = np.sqrt(MSE(y_test, pred))\n",
    "print(\"RMSE : % f\" %(rmse))"
   ]
  },
  {
   "cell_type": "code",
   "execution_count": 13,
   "metadata": {},
   "outputs": [
    {
     "name": "stdout",
     "output_type": "stream",
     "text": [
      "[0.0000000e+00 0.0000000e+00 0.0000000e+00 0.0000000e+00 0.0000000e+00\n",
      " 0.0000000e+00 9.9980652e-01 1.9341464e-04 0.0000000e+00 0.0000000e+00\n",
      " 0.0000000e+00 0.0000000e+00 0.0000000e+00 0.0000000e+00 0.0000000e+00\n",
      " 0.0000000e+00 0.0000000e+00 0.0000000e+00 0.0000000e+00 0.0000000e+00\n",
      " 0.0000000e+00 0.0000000e+00 0.0000000e+00 0.0000000e+00 0.0000000e+00\n",
      " 0.0000000e+00 0.0000000e+00 0.0000000e+00 0.0000000e+00 0.0000000e+00\n",
      " 0.0000000e+00 0.0000000e+00 0.0000000e+00 0.0000000e+00 0.0000000e+00\n",
      " 0.0000000e+00 0.0000000e+00 0.0000000e+00 0.0000000e+00 0.0000000e+00\n",
      " 0.0000000e+00 0.0000000e+00 0.0000000e+00 0.0000000e+00 0.0000000e+00\n",
      " 0.0000000e+00 0.0000000e+00 0.0000000e+00 0.0000000e+00 0.0000000e+00\n",
      " 0.0000000e+00 0.0000000e+00 0.0000000e+00]\n"
     ]
    }
   ],
   "source": [
    "print(xgb_r.feature_importances_)"
   ]
  },
  {
   "cell_type": "code",
   "execution_count": 14,
   "metadata": {},
   "outputs": [
    {
     "data": {
      "image/png": "[encoded data removed]",
      "text/plain": [
       "<Figure size 432x288 with 1 Axes>"
      ]
     },
     "metadata": {
      "needs_background": "light"
     },
     "output_type": "display_data"
    }
   ],
   "source": [
    "plot_importance(xgb_r)\n",
    "plt.show()"
   ]
  },
  {
   "cell_type": "code",
   "execution_count": 15,
   "metadata": {},
   "outputs": [
    {
     "data": {
      "text/plain": [
       "0.9965704768060302"
      ]
     },
     "execution_count": 15,
     "metadata": {},
     "output_type": "execute_result"
    }
   ],
   "source": [
    "xgb_r.score(X_test, y_test)"
   ]
  },
  {
   "cell_type": "code",
   "execution_count": 16,
   "metadata": {},
   "outputs": [
    {
     "data": {
      "text/plain": [
       "array([20.43948575, 50.23898879, 55.97336806, ..., 86.32453453,\n",
       "        6.16682555, 47.60721095])"
      ]
     },
     "execution_count": 16,
     "metadata": {},
     "output_type": "execute_result"
    }
   ],
   "source": [
    "y_test"
   ]
  },
  {
   "cell_type": "code",
   "execution_count": 17,
   "metadata": {},
   "outputs": [
    {
     "data": {
      "text/plain": [
       "array([21.508537, 48.59008 , 54.149868, ..., 84.24228 ,  5.839703,\n",
       "       46.495804], dtype=float32)"
      ]
     },
     "execution_count": 17,
     "metadata": {},
     "output_type": "execute_result"
    }
   ],
   "source": [
    "pred"
   ]
  },
  {
   "cell_type": "markdown",
   "metadata": {},
   "source": [
    "Building Polynomial Regression"
   ]
  },
  {
   "cell_type": "code",
   "execution_count": 18,
   "metadata": {},
   "outputs": [],
   "source": [
    "from sklearn.preprocessing import PolynomialFeatures"
   ]
  },
  {
   "cell_type": "code",
   "execution_count": 19,
   "metadata": {},
   "outputs": [],
   "source": [
    "poly = PolynomialFeatures(degree=2, include_bias=False)"
   ]
  },
  {
   "cell_type": "code",
   "execution_count": 20,
   "metadata": {},
   "outputs": [],
   "source": [
    "poly_features = poly.fit_transform(df_train[['6', '7']])"
   ]
  },
  {
   "cell_type": "code",
   "execution_count": 21,
   "metadata": {},
   "outputs": [],
   "source": [
    "X_train, X_test, y_train, y_test = train_test_split(poly_features, target, test_size=0.2, random_state=42)"
   ]
  },
  {
   "cell_type": "code",
   "execution_count": 22,
   "metadata": {},
   "outputs": [],
   "source": [
    "from sklearn.linear_model import LinearRegression"
   ]
  },
  {
   "cell_type": "code",
   "execution_count": 23,
   "metadata": {},
   "outputs": [],
   "source": [
    "poly_reg_model = LinearRegression()"
   ]
  },
  {
   "cell_type": "code",
   "execution_count": 24,
   "metadata": {},
   "outputs": [
    {
     "data": {
      "text/plain": [
       "LinearRegression()"
      ]
     },
     "execution_count": 24,
     "metadata": {},
     "output_type": "execute_result"
    }
   ],
   "source": [
    "poly_reg_model.fit(X_train, y_train)"
   ]
  },
  {
   "cell_type": "code",
   "execution_count": 25,
   "metadata": {},
   "outputs": [],
   "source": [
    "y_predicted = poly_reg_model.predict(X_test)"
   ]
  },
  {
   "cell_type": "code",
   "execution_count": 26,
   "metadata": {},
   "outputs": [
    {
     "name": "stdout",
     "output_type": "stream",
     "text": [
      "RMSE :  0.000000\n"
     ]
    }
   ],
   "source": [
    "rmse = np.sqrt(MSE(y_test, y_predicted))\n",
    "print(\"RMSE : % f\" %(rmse))"
   ]
  },
  {
   "cell_type": "code",
   "execution_count": 27,
   "metadata": {},
   "outputs": [
    {
     "data": {
      "text/plain": [
       "18000"
      ]
     },
     "execution_count": 27,
     "metadata": {},
     "output_type": "execute_result"
    }
   ],
   "source": [
    "len(y_test)"
   ]
  },
  {
   "cell_type": "code",
   "execution_count": 28,
   "metadata": {},
   "outputs": [
    {
     "data": {
      "text/plain": [
       "89610    20.439486\n",
       "12456    50.238989\n",
       "53403    55.973368\n",
       "62905    98.506589\n",
       "66339    60.348805\n",
       "           ...    \n",
       "48954    37.871374\n",
       "38743    31.686006\n",
       "57097    86.324535\n",
       "54782     6.166826\n",
       "54495    47.607211\n",
       "Name: target, Length: 18000, dtype: float64"
      ]
     },
     "execution_count": 28,
     "metadata": {},
     "output_type": "execute_result"
    }
   ],
   "source": [
    "y_test"
   ]
  },
  {
   "cell_type": "code",
   "execution_count": 29,
   "metadata": {},
   "outputs": [
    {
     "data": {
      "text/plain": [
       "array([20.43948575, 50.23898879, 55.97336806, ..., 86.32453453,\n",
       "        6.16682555, 47.60721095])"
      ]
     },
     "execution_count": 29,
     "metadata": {},
     "output_type": "execute_result"
    }
   ],
   "source": [
    "y_predicted"
   ]
  },
  {
   "cell_type": "markdown",
   "metadata": {},
   "source": [
    "Predicting for Test "
   ]
  },
  {
   "cell_type": "code",
   "execution_count": 41,
   "metadata": {},
   "outputs": [],
   "source": [
    "std_scaler = StandardScaler()\n",
    " \n",
    "df_scaled = std_scaler.fit_transform(test_data[['6', '7']])\n",
    "df_scaled = pd.DataFrame(df_scaled, columns=['6', '7'])"
   ]
  },
  {
   "cell_type": "code",
   "execution_count": 42,
   "metadata": {},
   "outputs": [],
   "source": [
    "X_test = np.array(df_scaled)"
   ]
  },
  {
   "cell_type": "code",
   "execution_count": 45,
   "metadata": {},
   "outputs": [],
   "source": [
    "test_pred = poly_reg_model.predict(poly.fit_transform(X_test))"
   ]
  },
  {
   "cell_type": "code",
   "execution_count": 46,
   "metadata": {},
   "outputs": [
    {
     "data": {
      "text/plain": [
       "array([11.68415891, 78.63112126,  7.8645647 , ..., 23.50866699,\n",
       "       17.07250013, 93.44767787])"
      ]
     },
     "execution_count": 46,
     "metadata": {},
     "output_type": "execute_result"
    }
   ],
   "source": [
    "test_pred"
   ]
  },
  {
   "cell_type": "code",
   "execution_count": 47,
   "metadata": {},
   "outputs": [],
   "source": [
    "test_data['target'] = test_pred"
   ]
  },
  {
   "cell_type": "code",
   "execution_count": 48,
   "metadata": {},
   "outputs": [
    {
     "data": {
      "text/html": [
       "<div>\n",
       "<style scoped>\n",
       "    .dataframe tbody tr th:only-of-type {\n",
       "        vertical-align: middle;\n",
       "    }\n",
       "\n",
       "    .dataframe tbody tr th {\n",
       "        vertical-align: top;\n",
       "    }\n",
       "\n",
       "    .dataframe thead th {\n",
       "        text-align: right;\n",
       "    }\n",
       "</style>\n",
       "<table border=\"1\" class=\"dataframe\">\n",
       "  <thead>\n",
       "    <tr style=\"text-align: right;\">\n",
       "      <th></th>\n",
       "      <th>0</th>\n",
       "      <th>1</th>\n",
       "      <th>2</th>\n",
       "      <th>3</th>\n",
       "      <th>4</th>\n",
       "      <th>5</th>\n",
       "      <th>6</th>\n",
       "      <th>7</th>\n",
       "      <th>8</th>\n",
       "      <th>9</th>\n",
       "      <th>...</th>\n",
       "      <th>44</th>\n",
       "      <th>45</th>\n",
       "      <th>46</th>\n",
       "      <th>47</th>\n",
       "      <th>48</th>\n",
       "      <th>49</th>\n",
       "      <th>50</th>\n",
       "      <th>51</th>\n",
       "      <th>52</th>\n",
       "      <th>target</th>\n",
       "    </tr>\n",
       "  </thead>\n",
       "  <tbody>\n",
       "    <tr>\n",
       "      <th>0</th>\n",
       "      <td>259</td>\n",
       "      <td>388</td>\n",
       "      <td>402</td>\n",
       "      <td>340</td>\n",
       "      <td>156</td>\n",
       "      <td>382</td>\n",
       "      <td>3.316625</td>\n",
       "      <td>0.218760</td>\n",
       "      <td>1</td>\n",
       "      <td>164</td>\n",
       "      <td>...</td>\n",
       "      <td>10.227235</td>\n",
       "      <td>0.889111</td>\n",
       "      <td>9.190222</td>\n",
       "      <td>4.670908</td>\n",
       "      <td>0.931525</td>\n",
       "      <td>7.634177</td>\n",
       "      <td>0.158196</td>\n",
       "      <td>13.432551</td>\n",
       "      <td>2.511191</td>\n",
       "      <td>11.684159</td>\n",
       "    </tr>\n",
       "    <tr>\n",
       "      <th>1</th>\n",
       "      <td>441</td>\n",
       "      <td>192</td>\n",
       "      <td>381</td>\n",
       "      <td>421</td>\n",
       "      <td>452</td>\n",
       "      <td>123</td>\n",
       "      <td>-8.888194</td>\n",
       "      <td>0.700228</td>\n",
       "      <td>0</td>\n",
       "      <td>349</td>\n",
       "      <td>...</td>\n",
       "      <td>9.339161</td>\n",
       "      <td>4.221861</td>\n",
       "      <td>0.595563</td>\n",
       "      <td>13.865748</td>\n",
       "      <td>0.328453</td>\n",
       "      <td>11.507599</td>\n",
       "      <td>9.107966</td>\n",
       "      <td>1.302407</td>\n",
       "      <td>11.105604</td>\n",
       "      <td>78.631121</td>\n",
       "    </tr>\n",
       "    <tr>\n",
       "      <th>2</th>\n",
       "      <td>83</td>\n",
       "      <td>129</td>\n",
       "      <td>107</td>\n",
       "      <td>156</td>\n",
       "      <td>247</td>\n",
       "      <td>191</td>\n",
       "      <td>2.645751</td>\n",
       "      <td>0.494556</td>\n",
       "      <td>1</td>\n",
       "      <td>297</td>\n",
       "      <td>...</td>\n",
       "      <td>10.670237</td>\n",
       "      <td>10.350867</td>\n",
       "      <td>5.134417</td>\n",
       "      <td>5.898995</td>\n",
       "      <td>8.374986</td>\n",
       "      <td>4.638049</td>\n",
       "      <td>3.160023</td>\n",
       "      <td>2.243799</td>\n",
       "      <td>5.073030</td>\n",
       "      <td>7.864565</td>\n",
       "    </tr>\n",
       "    <tr>\n",
       "      <th>3</th>\n",
       "      <td>183</td>\n",
       "      <td>438</td>\n",
       "      <td>191</td>\n",
       "      <td>116</td>\n",
       "      <td>491</td>\n",
       "      <td>403</td>\n",
       "      <td>-6.164414</td>\n",
       "      <td>0.511117</td>\n",
       "      <td>0</td>\n",
       "      <td>272</td>\n",
       "      <td>...</td>\n",
       "      <td>12.782579</td>\n",
       "      <td>0.513072</td>\n",
       "      <td>0.321295</td>\n",
       "      <td>11.334062</td>\n",
       "      <td>11.735511</td>\n",
       "      <td>1.911520</td>\n",
       "      <td>8.365676</td>\n",
       "      <td>4.877288</td>\n",
       "      <td>11.601819</td>\n",
       "      <td>37.737969</td>\n",
       "    </tr>\n",
       "    <tr>\n",
       "      <th>4</th>\n",
       "      <td>449</td>\n",
       "      <td>156</td>\n",
       "      <td>310</td>\n",
       "      <td>188</td>\n",
       "      <td>279</td>\n",
       "      <td>465</td>\n",
       "      <td>8.000000</td>\n",
       "      <td>0.756416</td>\n",
       "      <td>1</td>\n",
       "      <td>90</td>\n",
       "      <td>...</td>\n",
       "      <td>1.140498</td>\n",
       "      <td>14.165074</td>\n",
       "      <td>7.688796</td>\n",
       "      <td>5.079241</td>\n",
       "      <td>8.152186</td>\n",
       "      <td>1.680403</td>\n",
       "      <td>13.215111</td>\n",
       "      <td>5.823109</td>\n",
       "      <td>1.038015</td>\n",
       "      <td>65.958060</td>\n",
       "    </tr>\n",
       "    <tr>\n",
       "      <th>...</th>\n",
       "      <td>...</td>\n",
       "      <td>...</td>\n",
       "      <td>...</td>\n",
       "      <td>...</td>\n",
       "      <td>...</td>\n",
       "      <td>...</td>\n",
       "      <td>...</td>\n",
       "      <td>...</td>\n",
       "      <td>...</td>\n",
       "      <td>...</td>\n",
       "      <td>...</td>\n",
       "      <td>...</td>\n",
       "      <td>...</td>\n",
       "      <td>...</td>\n",
       "      <td>...</td>\n",
       "      <td>...</td>\n",
       "      <td>...</td>\n",
       "      <td>...</td>\n",
       "      <td>...</td>\n",
       "      <td>...</td>\n",
       "      <td>...</td>\n",
       "    </tr>\n",
       "    <tr>\n",
       "      <th>9995</th>\n",
       "      <td>221</td>\n",
       "      <td>246</td>\n",
       "      <td>314</td>\n",
       "      <td>406</td>\n",
       "      <td>464</td>\n",
       "      <td>317</td>\n",
       "      <td>6.708204</td>\n",
       "      <td>0.436684</td>\n",
       "      <td>1</td>\n",
       "      <td>205</td>\n",
       "      <td>...</td>\n",
       "      <td>12.306512</td>\n",
       "      <td>7.778209</td>\n",
       "      <td>5.698493</td>\n",
       "      <td>10.023215</td>\n",
       "      <td>4.959409</td>\n",
       "      <td>4.056025</td>\n",
       "      <td>4.642375</td>\n",
       "      <td>4.533745</td>\n",
       "      <td>6.754558</td>\n",
       "      <td>46.425700</td>\n",
       "    </tr>\n",
       "    <tr>\n",
       "      <th>9996</th>\n",
       "      <td>152</td>\n",
       "      <td>157</td>\n",
       "      <td>32</td>\n",
       "      <td>133</td>\n",
       "      <td>369</td>\n",
       "      <td>261</td>\n",
       "      <td>5.656854</td>\n",
       "      <td>0.986208</td>\n",
       "      <td>1</td>\n",
       "      <td>457</td>\n",
       "      <td>...</td>\n",
       "      <td>13.176561</td>\n",
       "      <td>6.697370</td>\n",
       "      <td>4.119232</td>\n",
       "      <td>2.190155</td>\n",
       "      <td>14.555999</td>\n",
       "      <td>7.786794</td>\n",
       "      <td>9.414130</td>\n",
       "      <td>5.413161</td>\n",
       "      <td>4.134093</td>\n",
       "      <td>33.815077</td>\n",
       "    </tr>\n",
       "    <tr>\n",
       "      <th>9997</th>\n",
       "      <td>349</td>\n",
       "      <td>240</td>\n",
       "      <td>355</td>\n",
       "      <td>97</td>\n",
       "      <td>93</td>\n",
       "      <td>176</td>\n",
       "      <td>4.690416</td>\n",
       "      <td>0.830543</td>\n",
       "      <td>1</td>\n",
       "      <td>287</td>\n",
       "      <td>...</td>\n",
       "      <td>0.941523</td>\n",
       "      <td>3.555292</td>\n",
       "      <td>12.572057</td>\n",
       "      <td>7.058367</td>\n",
       "      <td>12.999451</td>\n",
       "      <td>1.901825</td>\n",
       "      <td>5.100031</td>\n",
       "      <td>1.498432</td>\n",
       "      <td>8.093801</td>\n",
       "      <td>23.508667</td>\n",
       "    </tr>\n",
       "    <tr>\n",
       "      <th>9998</th>\n",
       "      <td>427</td>\n",
       "      <td>70</td>\n",
       "      <td>63</td>\n",
       "      <td>265</td>\n",
       "      <td>62</td>\n",
       "      <td>150</td>\n",
       "      <td>4.000000</td>\n",
       "      <td>0.502337</td>\n",
       "      <td>1</td>\n",
       "      <td>124</td>\n",
       "      <td>...</td>\n",
       "      <td>1.593796</td>\n",
       "      <td>9.902159</td>\n",
       "      <td>2.548667</td>\n",
       "      <td>11.339210</td>\n",
       "      <td>14.192310</td>\n",
       "      <td>14.142207</td>\n",
       "      <td>9.966924</td>\n",
       "      <td>8.538981</td>\n",
       "      <td>7.036367</td>\n",
       "      <td>17.072500</td>\n",
       "    </tr>\n",
       "    <tr>\n",
       "      <th>9999</th>\n",
       "      <td>144</td>\n",
       "      <td>216</td>\n",
       "      <td>66</td>\n",
       "      <td>452</td>\n",
       "      <td>382</td>\n",
       "      <td>307</td>\n",
       "      <td>9.539392</td>\n",
       "      <td>0.986542</td>\n",
       "      <td>1</td>\n",
       "      <td>40</td>\n",
       "      <td>...</td>\n",
       "      <td>14.724772</td>\n",
       "      <td>3.093617</td>\n",
       "      <td>3.681825</td>\n",
       "      <td>11.427112</td>\n",
       "      <td>5.748047</td>\n",
       "      <td>8.053866</td>\n",
       "      <td>0.729627</td>\n",
       "      <td>0.767049</td>\n",
       "      <td>9.541795</td>\n",
       "      <td>93.447678</td>\n",
       "    </tr>\n",
       "  </tbody>\n",
       "</table>\n",
       "<p>10000 rows × 54 columns</p>\n",
       "</div>"
      ],
      "text/plain": [
       "        0    1    2    3    4    5         6         7  8    9  ...  \\\n",
       "0     259  388  402  340  156  382  3.316625  0.218760  1  164  ...   \n",
       "1     441  192  381  421  452  123 -8.888194  0.700228  0  349  ...   \n",
       "2      83  129  107  156  247  191  2.645751  0.494556  1  297  ...   \n",
       "3     183  438  191  116  491  403 -6.164414  0.511117  0  272  ...   \n",
       "4     449  156  310  188  279  465  8.000000  0.756416  1   90  ...   \n",
       "...   ...  ...  ...  ...  ...  ...       ...       ... ..  ...  ...   \n",
       "9995  221  246  314  406  464  317  6.708204  0.436684  1  205  ...   \n",
       "9996  152  157   32  133  369  261  5.656854  0.986208  1  457  ...   \n",
       "9997  349  240  355   97   93  176  4.690416  0.830543  1  287  ...   \n",
       "9998  427   70   63  265   62  150  4.000000  0.502337  1  124  ...   \n",
       "9999  144  216   66  452  382  307  9.539392  0.986542  1   40  ...   \n",
       "\n",
       "             44         45         46         47         48         49  \\\n",
       "0     10.227235   0.889111   9.190222   4.670908   0.931525   7.634177   \n",
       "1      9.339161   4.221861   0.595563  13.865748   0.328453  11.507599   \n",
       "2     10.670237  10.350867   5.134417   5.898995   8.374986   4.638049   \n",
       "3     12.782579   0.513072   0.321295  11.334062  11.735511   1.911520   \n",
       "4      1.140498  14.165074   7.688796   5.079241   8.152186   1.680403   \n",
       "...         ...        ...        ...        ...        ...        ...   \n",
       "9995  12.306512   7.778209   5.698493  10.023215   4.959409   4.056025   \n",
       "9996  13.176561   6.697370   4.119232   2.190155  14.555999   7.786794   \n",
       "9997   0.941523   3.555292  12.572057   7.058367  12.999451   1.901825   \n",
       "9998   1.593796   9.902159   2.548667  11.339210  14.192310  14.142207   \n",
       "9999  14.724772   3.093617   3.681825  11.427112   5.748047   8.053866   \n",
       "\n",
       "             50         51         52     target  \n",
       "0      0.158196  13.432551   2.511191  11.684159  \n",
       "1      9.107966   1.302407  11.105604  78.631121  \n",
       "2      3.160023   2.243799   5.073030   7.864565  \n",
       "3      8.365676   4.877288  11.601819  37.737969  \n",
       "4     13.215111   5.823109   1.038015  65.958060  \n",
       "...         ...        ...        ...        ...  \n",
       "9995   4.642375   4.533745   6.754558  46.425700  \n",
       "9996   9.414130   5.413161   4.134093  33.815077  \n",
       "9997   5.100031   1.498432   8.093801  23.508667  \n",
       "9998   9.966924   8.538981   7.036367  17.072500  \n",
       "9999   0.729627   0.767049   9.541795  93.447678  \n",
       "\n",
       "[10000 rows x 54 columns]"
      ]
     },
     "execution_count": 48,
     "metadata": {},
     "output_type": "execute_result"
    }
   ],
   "source": [
    "test_data"
   ]
  },
  {
   "cell_type": "code",
   "execution_count": 49,
   "metadata": {},
   "outputs": [],
   "source": [
    "test_data.to_csv('/content/test_with_predicted_target.csv')"
   ]
  }
 ],
 "metadata": {
  "kernelspec": {
   "display_name": "Python 3 (ipykernel)",
   "language": "python",
   "name": "python3"
  },
  "language_info": {
   "codemirror_mode": {
    "name": "ipython",
    "version": 3
   },
   "file_extension": ".py",
   "mimetype": "text/x-python",
   "name": "python",
   "nbconvert_exporter": "python",
   "pygments_lexer": "ipython3",
   "version": "3.9.12"
  }
 },
 "nbformat": 4,
 "nbformat_minor": 4
}
