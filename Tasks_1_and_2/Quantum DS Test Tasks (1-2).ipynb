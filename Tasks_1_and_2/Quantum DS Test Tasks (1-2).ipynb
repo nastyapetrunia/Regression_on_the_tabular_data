{
 "cells": [
  {
   "cell_type": "markdown",
   "metadata": {},
   "source": [
    "1.\tWhat is FOR loop?"
   ]
  },
  {
   "cell_type": "code",
   "execution_count": null,
   "metadata": {},
   "outputs": [],
   "source": [
    "# triangular number formula: (n*(n+1))//2\n",
    "# used '//' (floor/integer division) so the result type is 'int'",
    "You have a positive integer number N as an input. Please write a program in Python 3 that calculates the sum in range 1 and N."
   ]
  },
  {
   "cell_type": "code",
   "execution_count": null,
   "metadata": {},
   "outputs": [],
   "source": [
    "def sum_1_to_n(n):\n",
    "    return (n*(n+1))//2"
   ]
  },
  {
   "cell_type": "code",
   "execution_count": null,
   "metadata": {},
   "outputs": [],
   "source": [
    "assert 1 == sum_1_to_n(1)\n",
    "assert 6 == sum_1_to_n(3)\n",
    "assert 55 == sum_1_to_n(10)"
   ]
  },
  {
   "cell_type": "markdown",
   "metadata": {},
   "source": [
    "2.\tCounting islands",
    "You have a matrix MxN that represents a map. There are 2 possible states on the map: 1 - islands, 0 - ocean. Your task is to calculate the number of islands in the most effective way. Please write code in Python 3."
   ]
  },
  {
   "cell_type": "code",
   "execution_count": null,
   "metadata": {},
   "outputs": [],
   "source": [
    "# used breadth-first search\n",
    "# bfs is not better or worse than dfs here, just my preference "
   ]
  },
  {
   "cell_type": "code",
   "execution_count": null,
   "metadata": {},
   "outputs": [],
   "source": [
    "from collections import deque"
   ]
  },
  {
   "cell_type": "code",
   "execution_count": null,
   "metadata": {},
   "outputs": [],
   "source": [
    "matrix1 = [\n",
    "    [0,0,0,1],\n",
    "    [0,0,1,1], # 2 islands\n",
    "    [0,1,0,1]\n",
    "]\n",
    "matrix2 = [\n",
    "    [0,1,0],\n",
    "    [0,0,0], # 2 islands\n",
    "    [0,1,1]\n",
    "]\n",
    "matrix3 = [\n",
    "    [0,0,0,1],\n",
    "    [0,0,1,0], # 3 islands\n",
    "    [0,1,0,0]\n",
    "]\n",
    "matrix4 = [\n",
    "    [1,1,1,1,0],\n",
    "    [1,1,0,1,0], # 1 island\n",
    "    [1,1,0,0,0],\n",
    "    [0,0,0,0,0]\n",
    "]\n",
    "matrix5 = [\n",
    "    [1,1,0,0,0],\n",
    "    [1,1,0,0,0], # 3 islands\n",
    "    [0,0,1,0,0],\n",
    "    [0,0,0,1,1]\n",
    "]"
   ]
  },
  {
   "cell_type": "code",
   "execution_count": null,
   "metadata": {},
   "outputs": [],
   "source": [
    "class counting_islands():      \n",
    "    def count_islands(self, matrix):\n",
    "        len_row = len(matrix)\n",
    "        len_col = len(matrix[0])\n",
    "        visited = [[False for col in range(len(matrix[0]))]for row in range(len(matrix))]\n",
    "        num_islands = 0\n",
    "        queue = deque([[0, 0]])\n",
    "        while queue:\n",
    "            i, j = queue.popleft()\n",
    "            if not visited[i][j]:\n",
    "                visited[i][j] = True\n",
    "                neighbours = self.add_neighbours(i, j, len_row, len_col, queue, visited)\n",
    "                queue.extend(neighbours)\n",
    "                if matrix[i][j]:\n",
    "                    num_islands = num_islands + 1\n",
    "                    neighbours = self.add_neighbours(i, j, len_row, len_col, [], visited)\n",
    "                    neighbours = self.find_coasts(deque(neighbours), matrix, visited, len_row, len_col)\n",
    "                    queue.extend(neighbours)\n",
    "        return num_islands\n",
    "\n",
    "\n",
    "    def add_neighbours(self, i, j, len_row, len_col, queue, visited):\n",
    "        neighbours = []\n",
    "        possible_neighbours = [[i+1, j], [i-1, j], [i, j+1], [i, j-1]]\n",
    "        for i, j in possible_neighbours:\n",
    "            if [i,j] not in queue:\n",
    "                if (i > -1) and (j > -1) and (i < len_row) and (j < len_col) and (not visited[i][j]):\n",
    "                    neighbours.append([i, j])\n",
    "        return neighbours\n",
    "\n",
    "\n",
    "    def find_coasts(self, queue, matrix, visited, len_row, len_col):\n",
    "        neighbours = []\n",
    "        while queue:\n",
    "            i, j = queue.popleft()\n",
    "            visited[i][j] = True\n",
    "            neighbours = self.add_neighbours(i, j, len_row, len_col, queue, visited)\n",
    "            if matrix[i][j]:\n",
    "                queue.extend(neighbours)\n",
    "        return neighbours"
   ]
  },
  {
   "cell_type": "code",
   "execution_count": null,
   "metadata": {},
   "outputs": [],
   "source": [
    "counting_islands = counting_islands()"
   ]
  },
  {
   "cell_type": "code",
   "execution_count": null,
   "metadata": {},
   "outputs": [],
   "source": [
    "assert 2 == counting_islands.count_islands(matrix1)\n",
    "assert 2 == counting_islands.count_islands(matrix2)\n",
    "assert 3 == counting_islands.count_islands(matrix3)\n",
    "assert 1 == counting_islands.count_islands(matrix4)\n",
    "assert 3 == counting_islands.count_islands(matrix5)"
   ]
  }
 ],
 "metadata": {
  "kernelspec": {
   "display_name": "Python 3 (ipykernel)",
   "language": "python",
   "name": "python3"
  },
  "language_info": {
   "codemirror_mode": {
    "name": "ipython",
    "version": 3
   },
   "file_extension": ".py",
   "mimetype": "text/x-python",
   "name": "python",
   "nbconvert_exporter": "python",
   "pygments_lexer": "ipython3",
   "version": "3.9.12"
  }
 },
 "nbformat": 4,
 "nbformat_minor": 4
}
